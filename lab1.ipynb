{
 "cells": [
  {
   "cell_type": "code",
   "execution_count": 2,
   "id": "e3883c63-66d0-4e6b-bf89-cac6248113a5",
   "metadata": {},
   "outputs": [],
   "source": [
    "import pandas as pd\n",
    "data = pd.read_csv('proyMdd/datos.csv')"
   ]
  },
  {
   "cell_type": "code",
   "execution_count": 5,
   "id": "d379b846-a964-4683-84f8-dcc0d0dc6515",
   "metadata": {},
   "outputs": [
    {
     "data": {
      "text/plain": [
       "Index(['Animal ID', 'Name', 'DateTime', 'MonthYear', 'Date of Birth',\n",
       "       'Outcome Type', 'Outcome Subtype', 'Animal Type', 'Sex upon Outcome',\n",
       "       'Age upon Outcome', 'Breed', 'Color'],\n",
       "      dtype='object')"
      ]
     },
     "execution_count": 5,
     "metadata": {},
     "output_type": "execute_result"
    }
   ],
   "source": [
    "data.columns"
   ]
  },
  {
   "cell_type": "code",
   "execution_count": 6,
   "id": "63707deb-a75e-4e35-bf62-3d456a7caca2",
   "metadata": {},
   "outputs": [
    {
     "data": {
      "text/html": [
       "<div>\n",
       "<style scoped>\n",
       "    .dataframe tbody tr th:only-of-type {\n",
       "        vertical-align: middle;\n",
       "    }\n",
       "\n",
       "    .dataframe tbody tr th {\n",
       "        vertical-align: top;\n",
       "    }\n",
       "\n",
       "    .dataframe thead th {\n",
       "        text-align: right;\n",
       "    }\n",
       "</style>\n",
       "<table border=\"1\" class=\"dataframe\">\n",
       "  <thead>\n",
       "    <tr style=\"text-align: right;\">\n",
       "      <th></th>\n",
       "      <th>Animal ID</th>\n",
       "      <th>Name</th>\n",
       "      <th>DateTime</th>\n",
       "      <th>MonthYear</th>\n",
       "      <th>Date of Birth</th>\n",
       "      <th>Outcome Type</th>\n",
       "      <th>Outcome Subtype</th>\n",
       "      <th>Animal Type</th>\n",
       "      <th>Sex upon Outcome</th>\n",
       "      <th>Age upon Outcome</th>\n",
       "      <th>Breed</th>\n",
       "      <th>Color</th>\n",
       "    </tr>\n",
       "  </thead>\n",
       "  <tbody>\n",
       "    <tr>\n",
       "      <th>0</th>\n",
       "      <td>A771830</td>\n",
       "      <td>*Bradley</td>\n",
       "      <td>12/27/2018 01:25:00 PM</td>\n",
       "      <td>12/27/2018 01:25:00 PM</td>\n",
       "      <td>05/10/2017</td>\n",
       "      <td>Adoption</td>\n",
       "      <td>Foster</td>\n",
       "      <td>Dog</td>\n",
       "      <td>Neutered Male</td>\n",
       "      <td>1 year</td>\n",
       "      <td>Pit Bull Mix</td>\n",
       "      <td>White/Blue</td>\n",
       "    </tr>\n",
       "    <tr>\n",
       "      <th>1</th>\n",
       "      <td>A779576</td>\n",
       "      <td>*Rajah</td>\n",
       "      <td>10/01/2018 05:03:00 PM</td>\n",
       "      <td>10/01/2018 05:03:00 PM</td>\n",
       "      <td>04/18/2018</td>\n",
       "      <td>Adoption</td>\n",
       "      <td>NaN</td>\n",
       "      <td>Cat</td>\n",
       "      <td>Neutered Male</td>\n",
       "      <td>5 months</td>\n",
       "      <td>Domestic Shorthair Mix</td>\n",
       "      <td>Brown Tabby</td>\n",
       "    </tr>\n",
       "    <tr>\n",
       "      <th>2</th>\n",
       "      <td>A741715</td>\n",
       "      <td>*Pebbles</td>\n",
       "      <td>01/11/2017 06:17:00 PM</td>\n",
       "      <td>01/11/2017 06:17:00 PM</td>\n",
       "      <td>03/07/2016</td>\n",
       "      <td>Adoption</td>\n",
       "      <td>NaN</td>\n",
       "      <td>Cat</td>\n",
       "      <td>Spayed Female</td>\n",
       "      <td>10 months</td>\n",
       "      <td>Domestic Shorthair Mix</td>\n",
       "      <td>Calico</td>\n",
       "    </tr>\n",
       "    <tr>\n",
       "      <th>3</th>\n",
       "      <td>A658751</td>\n",
       "      <td>Benji</td>\n",
       "      <td>11/13/2016 01:38:00 PM</td>\n",
       "      <td>11/13/2016 01:38:00 PM</td>\n",
       "      <td>07/14/2011</td>\n",
       "      <td>Return to Owner</td>\n",
       "      <td>NaN</td>\n",
       "      <td>Dog</td>\n",
       "      <td>Neutered Male</td>\n",
       "      <td>5 years</td>\n",
       "      <td>Border Terrier Mix</td>\n",
       "      <td>Tan</td>\n",
       "    </tr>\n",
       "    <tr>\n",
       "      <th>4</th>\n",
       "      <td>A721285</td>\n",
       "      <td>NaN</td>\n",
       "      <td>02/24/2016 02:42:00 PM</td>\n",
       "      <td>02/24/2016 02:42:00 PM</td>\n",
       "      <td>02/24/2014</td>\n",
       "      <td>Euthanasia</td>\n",
       "      <td>Suffering</td>\n",
       "      <td>Other</td>\n",
       "      <td>Unknown</td>\n",
       "      <td>2 years</td>\n",
       "      <td>Raccoon Mix</td>\n",
       "      <td>Black/Gray</td>\n",
       "    </tr>\n",
       "  </tbody>\n",
       "</table>\n",
       "</div>"
      ],
      "text/plain": [
       "  Animal ID      Name                DateTime               MonthYear  \\\n",
       "0   A771830  *Bradley  12/27/2018 01:25:00 PM  12/27/2018 01:25:00 PM   \n",
       "1   A779576    *Rajah  10/01/2018 05:03:00 PM  10/01/2018 05:03:00 PM   \n",
       "2   A741715  *Pebbles  01/11/2017 06:17:00 PM  01/11/2017 06:17:00 PM   \n",
       "3   A658751     Benji  11/13/2016 01:38:00 PM  11/13/2016 01:38:00 PM   \n",
       "4   A721285       NaN  02/24/2016 02:42:00 PM  02/24/2016 02:42:00 PM   \n",
       "\n",
       "  Date of Birth     Outcome Type Outcome Subtype Animal Type Sex upon Outcome  \\\n",
       "0    05/10/2017         Adoption          Foster         Dog    Neutered Male   \n",
       "1    04/18/2018         Adoption             NaN         Cat    Neutered Male   \n",
       "2    03/07/2016         Adoption             NaN         Cat    Spayed Female   \n",
       "3    07/14/2011  Return to Owner             NaN         Dog    Neutered Male   \n",
       "4    02/24/2014       Euthanasia       Suffering       Other          Unknown   \n",
       "\n",
       "  Age upon Outcome                   Breed        Color  \n",
       "0           1 year            Pit Bull Mix   White/Blue  \n",
       "1         5 months  Domestic Shorthair Mix  Brown Tabby  \n",
       "2        10 months  Domestic Shorthair Mix       Calico  \n",
       "3          5 years      Border Terrier Mix          Tan  \n",
       "4          2 years             Raccoon Mix   Black/Gray  "
      ]
     },
     "execution_count": 6,
     "metadata": {},
     "output_type": "execute_result"
    }
   ],
   "source": [
    "data.head()"
   ]
  },
  {
   "cell_type": "code",
   "execution_count": 7,
   "id": "224025c1-1090-4603-b923-eb4f8a48efe0",
   "metadata": {},
   "outputs": [
    {
     "data": {
      "text/html": [
       "<div>\n",
       "<style scoped>\n",
       "    .dataframe tbody tr th:only-of-type {\n",
       "        vertical-align: middle;\n",
       "    }\n",
       "\n",
       "    .dataframe tbody tr th {\n",
       "        vertical-align: top;\n",
       "    }\n",
       "\n",
       "    .dataframe thead th {\n",
       "        text-align: right;\n",
       "    }\n",
       "</style>\n",
       "<table border=\"1\" class=\"dataframe\">\n",
       "  <thead>\n",
       "    <tr style=\"text-align: right;\">\n",
       "      <th></th>\n",
       "      <th>Animal ID</th>\n",
       "      <th>Name</th>\n",
       "      <th>DateTime</th>\n",
       "      <th>MonthYear</th>\n",
       "      <th>Date of Birth</th>\n",
       "      <th>Outcome Type</th>\n",
       "      <th>Outcome Subtype</th>\n",
       "      <th>Animal Type</th>\n",
       "      <th>Sex upon Outcome</th>\n",
       "      <th>Age upon Outcome</th>\n",
       "      <th>Breed</th>\n",
       "      <th>Color</th>\n",
       "    </tr>\n",
       "  </thead>\n",
       "  <tbody>\n",
       "    <tr>\n",
       "      <th>count</th>\n",
       "      <td>95367</td>\n",
       "      <td>65938</td>\n",
       "      <td>95367</td>\n",
       "      <td>95367</td>\n",
       "      <td>95367</td>\n",
       "      <td>95360</td>\n",
       "      <td>43280</td>\n",
       "      <td>95367</td>\n",
       "      <td>95365</td>\n",
       "      <td>95363</td>\n",
       "      <td>95367</td>\n",
       "      <td>95367</td>\n",
       "    </tr>\n",
       "    <tr>\n",
       "      <th>unique</th>\n",
       "      <td>85672</td>\n",
       "      <td>16383</td>\n",
       "      <td>78742</td>\n",
       "      <td>78742</td>\n",
       "      <td>6312</td>\n",
       "      <td>9</td>\n",
       "      <td>20</td>\n",
       "      <td>5</td>\n",
       "      <td>5</td>\n",
       "      <td>48</td>\n",
       "      <td>2348</td>\n",
       "      <td>567</td>\n",
       "    </tr>\n",
       "    <tr>\n",
       "      <th>top</th>\n",
       "      <td>A721033</td>\n",
       "      <td>Bella</td>\n",
       "      <td>04/18/2016 12:00:00 AM</td>\n",
       "      <td>04/18/2016 12:00:00 AM</td>\n",
       "      <td>09/01/2015</td>\n",
       "      <td>Adoption</td>\n",
       "      <td>Partner</td>\n",
       "      <td>Dog</td>\n",
       "      <td>Neutered Male</td>\n",
       "      <td>1 year</td>\n",
       "      <td>Domestic Shorthair Mix</td>\n",
       "      <td>Black/White</td>\n",
       "    </tr>\n",
       "    <tr>\n",
       "      <th>freq</th>\n",
       "      <td>24</td>\n",
       "      <td>419</td>\n",
       "      <td>39</td>\n",
       "      <td>39</td>\n",
       "      <td>118</td>\n",
       "      <td>41332</td>\n",
       "      <td>23549</td>\n",
       "      <td>54327</td>\n",
       "      <td>33767</td>\n",
       "      <td>17559</td>\n",
       "      <td>28334</td>\n",
       "      <td>9914</td>\n",
       "    </tr>\n",
       "  </tbody>\n",
       "</table>\n",
       "</div>"
      ],
      "text/plain": [
       "       Animal ID   Name                DateTime               MonthYear  \\\n",
       "count      95367  65938                   95367                   95367   \n",
       "unique     85672  16383                   78742                   78742   \n",
       "top      A721033  Bella  04/18/2016 12:00:00 AM  04/18/2016 12:00:00 AM   \n",
       "freq          24    419                      39                      39   \n",
       "\n",
       "       Date of Birth Outcome Type Outcome Subtype Animal Type  \\\n",
       "count          95367        95360           43280       95367   \n",
       "unique          6312            9              20           5   \n",
       "top       09/01/2015     Adoption         Partner         Dog   \n",
       "freq             118        41332           23549       54327   \n",
       "\n",
       "       Sex upon Outcome Age upon Outcome                   Breed        Color  \n",
       "count             95365            95363                   95367        95367  \n",
       "unique                5               48                    2348          567  \n",
       "top       Neutered Male           1 year  Domestic Shorthair Mix  Black/White  \n",
       "freq              33767            17559                   28334         9914  "
      ]
     },
     "execution_count": 7,
     "metadata": {},
     "output_type": "execute_result"
    }
   ],
   "source": [
    "data.describe()"
   ]
  },
  {
   "cell_type": "code",
   "execution_count": 8,
   "id": "2fcd97b7-2188-4610-a97e-8e8cb1499ace",
   "metadata": {},
   "outputs": [
    {
     "name": "stdout",
     "output_type": "stream",
     "text": [
      "<class 'pandas.core.frame.DataFrame'>\n",
      "RangeIndex: 95367 entries, 0 to 95366\n",
      "Data columns (total 12 columns):\n",
      " #   Column            Non-Null Count  Dtype \n",
      "---  ------            --------------  ----- \n",
      " 0   Animal ID         95367 non-null  object\n",
      " 1   Name              65938 non-null  object\n",
      " 2   DateTime          95367 non-null  object\n",
      " 3   MonthYear         95367 non-null  object\n",
      " 4   Date of Birth     95367 non-null  object\n",
      " 5   Outcome Type      95360 non-null  object\n",
      " 6   Outcome Subtype   43280 non-null  object\n",
      " 7   Animal Type       95367 non-null  object\n",
      " 8   Sex upon Outcome  95365 non-null  object\n",
      " 9   Age upon Outcome  95363 non-null  object\n",
      " 10  Breed             95367 non-null  object\n",
      " 11  Color             95367 non-null  object\n",
      "dtypes: object(12)\n",
      "memory usage: 8.7+ MB\n"
     ]
    }
   ],
   "source": [
    "data.info()"
   ]
  },
  {
   "cell_type": "markdown",
   "id": "41035d71-cb93-416e-b3f3-14b2f69b5a67",
   "metadata": {},
   "source": [
    "MATPLOTLIB"
   ]
  },
  {
   "cell_type": "code",
   "execution_count": 12,
   "id": "e6bb4034-91cc-4636-9203-bd3141e33ce7",
   "metadata": {},
   "outputs": [],
   "source": [
    "num = (data.dtypes == object)\n",
    "num_cols = [c for c in num.index if num[c]]\n",
    "data_num = data[num_cols]"
   ]
  },
  {
   "cell_type": "code",
   "execution_count": 13,
   "id": "4ac42d17-3bd1-4dfe-9d2c-4cc005be8163",
   "metadata": {},
   "outputs": [
    {
     "data": {
      "text/plain": [
       "<AxesSubplot:>"
      ]
     },
     "execution_count": 13,
     "metadata": {},
     "output_type": "execute_result"
    },
    {
     "data": {
      "image/png": "[encoded data removed]",
      "text/plain": [
       "<Figure size 432x288 with 1 Axes>"
      ]
     },
     "metadata": {
      "needs_background": "light"
     },
     "output_type": "display_data"
    }
   ],
   "source": [
    "import matplotlib.pyplot as plt\n",
    "data_num['Sex upon Outcome'].hist()"
   ]
  },
  {
   "cell_type": "code",
   "execution_count": 20,
   "id": "b2e13098-5d8f-40a8-a2f4-f1bc5c3c5321",
   "metadata": {},
   "outputs": [
    {
     "data": {
      "text/plain": [
       "<AxesSubplot:ylabel='Animal Type'>"
      ]
     },
     "execution_count": 20,
     "metadata": {},
     "output_type": "execute_result"
    },
    {
     "data": {
      "image/png": "[encoded data removed]",
      "text/plain": [
       "<Figure size 432x288 with 1 Axes>"
      ]
     },
     "metadata": {},
     "output_type": "display_data"
    }
   ],
   "source": [
    "data[num_cols]\n",
    "data['Animal Type'].value_counts().plot.pie()"
   ]
  }
 ],
 "metadata": {
  "kernelspec": {
   "display_name": "Python 3",
   "language": "python",
   "name": "python3"
  },
  "language_info": {
   "codemirror_mode": {
    "name": "ipython",
    "version": 3
   },
   "file_extension": ".py",
   "mimetype": "text/x-python",
   "name": "python",
   "nbconvert_exporter": "python",
   "pygments_lexer": "ipython3",
   "version": "3.8.8"
  }
 },
 "nbformat": 4,
 "nbformat_minor": 5
}
